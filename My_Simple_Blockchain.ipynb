{
 "cells": [
  {
   "cell_type": "markdown",
   "metadata": {},
   "source": [
    "# Minimal Blockchain in Python"
   ]
  },
  {
   "cell_type": "markdown",
   "metadata": {},
   "source": [
    "Creating a minimal private blockchain with essential operations such as: \n",
    "\n",
    "a) creating a blockchain<br> \n",
    "b) verifying a chain<br>\n",
    "c) forking<br> \n",
    "d) comparing chains"
   ]
  },
  {
   "cell_type": "code",
   "execution_count": 1,
   "metadata": {
    "ExecuteTime": {
     "end_time": "2020-03-08T17:54:09.217400Z",
     "start_time": "2020-03-08T17:54:09.214396Z"
    }
   },
   "outputs": [],
   "source": [
    "import copy # fork a chain\n",
    "import datetime # get real time for timestamps\n",
    "import hashlib # hash"
   ]
  },
  {
   "cell_type": "markdown",
   "metadata": {},
   "source": [
    "## Define classes"
   ]
  },
  {
   "cell_type": "code",
   "execution_count": 4,
   "metadata": {
    "ExecuteTime": {
     "end_time": "2020-03-08T18:02:32.016726Z",
     "start_time": "2020-03-08T18:02:31.976149Z"
    }
   },
   "outputs": [],
   "source": [
    "class MinimalChain():\n",
    "    \n",
    "    #Initialization of chain - First block using genesis function\n",
    "    def __init__(self):\n",
    "        self.blocks = [self.get_genesis_block()]\n",
    "        \n",
    "    #Check equality of chains\n",
    "    def __eq__(self, other):\n",
    "        if isinstance(other, self.__class__):\n",
    "            return self.__dict__ == other.__dict__\n",
    "        else:\n",
    "            return False\n",
    "    \n",
    "    #Geneis - Create first block\n",
    "    def get_genesis_block(self): \n",
    "        return MinimalBlock(0, \n",
    "                            datetime.datetime.utcnow(), \n",
    "                            'Genesis', \n",
    "                            'arbitrary')\n",
    "    \n",
    "    # Adding a new block to the chain\n",
    "    def add_block(self, data):\n",
    "        self.blocks.append(MinimalBlock(len(self.blocks), \n",
    "                                        datetime.datetime.utcnow(), \n",
    "                                        data, \n",
    "                                        self.blocks[len(self.blocks)-1].hash))\n",
    "    \n",
    "    # Size excluding genesis block\n",
    "    def get_chain_size(self): \n",
    "        return len(self.blocks)-1\n",
    "    \n",
    "    # Verification of a block's validity\n",
    "    def verify(self, verbose=True): \n",
    "        flag = True\n",
    "        for i in range(1,len(self.blocks)):\n",
    "            if not self.blocks[i].verify(): # assume Genesis block integrity\n",
    "                flag = False\n",
    "                if verbose:\n",
    "                    print(f'Wrong data type(s) at block {i}.')\n",
    "            if self.blocks[i].hash[:2] != '00':\n",
    "                flag = False\n",
    "                if verbose:\n",
    "                    print(f'Wrong block hash {i}, must mine it.')\n",
    "            if self.blocks[i-1].hash != self.blocks[i].previous_hash:\n",
    "                flag = False\n",
    "                if verbose:\n",
    "                    print(f'Wrong previous hash at block {i}.')\n",
    "            if self.blocks[i].hash != self.blocks[i].hashing():\n",
    "                flag = False\n",
    "                if verbose:\n",
    "                    print(f'Wrong hash at block {i}.')\n",
    "            if self.blocks[i-1].timestamp > self.blocks[i].timestamp:\n",
    "                flag = False\n",
    "                if verbose:\n",
    "                    print(f'Backdating at block {i}.')\n",
    "        return flag\n",
    "    \n",
    "    # Cloning the chain\n",
    "    def fork(self, head='latest'):\n",
    "        if head in ['latest', 'whole', 'all']:\n",
    "            # deepcopy since lists are mutable objects\n",
    "            return copy.deepcopy(self) \n",
    "        else:\n",
    "            c = copy.deepcopy(self)\n",
    "            c.blocks = c.blocks[0:head+1]\n",
    "            return c\n",
    "    \n",
    "    # Check your status compared to chain2 and update up until the block of conflict\n",
    "    def get_root(self, chain_2):\n",
    "        min_chain_size = min(self.get_chain_size(), chain_2.get_chain_size())\n",
    "        for i in range(1,min_chain_size+1):\n",
    "            if self.blocks[i] != chain_2.blocks[i]:\n",
    "                return self.fork(i-1)\n",
    "        return self.fork(min_chain_size)    "
   ]
  },
  {
   "cell_type": "code",
   "execution_count": 10,
   "metadata": {
    "ExecuteTime": {
     "end_time": "2020-03-08T18:03:57.214315Z",
     "start_time": "2020-03-08T18:03:57.195008Z"
    }
   },
   "outputs": [],
   "source": [
    "class MinimalBlock():\n",
    "    # Create new block\n",
    "    def __init__(self, nonce, timestamp, data, previous_hash):\n",
    "        self.nonce = nonce \n",
    "        self.timestamp = timestamp\n",
    "        self.data = data\n",
    "        self.previous_hash = previous_hash\n",
    "        if (self.mine() == False):\n",
    "            print('Mine failed')\n",
    "        self.hash = self.hashing()\n",
    "    \n",
    "    #Check similarity of blocks\n",
    "    def __eq__(self, other):\n",
    "        if isinstance(other, self.__class__):\n",
    "            return self.__dict__ == other.__dict__\n",
    "        else:\n",
    "            return False\n",
    "        \n",
    "    #Hash using all fields of block\n",
    "    def hashing(self):\n",
    "        key = hashlib.sha256()\n",
    "        key.update(str(self.nonce).encode('utf-8'))\n",
    "        key.update(str(self.timestamp).encode('utf-8'))\n",
    "        key.update(str(self.data).encode('utf-8'))\n",
    "        key.update(str(self.previous_hash).encode('utf-8'))\n",
    "        return key.hexdigest()\n",
    "    \n",
    "    # mine block - find correct nonce for hash to be starting with '00'\n",
    "    def mine(self):\n",
    "        self.nonce = 0\n",
    "        while(self.hashing()[:2] != '00'):\n",
    "            self.nonce = self.nonce + 1\n",
    "        return True\n",
    "    \n",
    "    # check data types of all info in a block\n",
    "    def verify(self):  \n",
    "        instances = [self.nonce, self.timestamp, self.previous_hash, self.hash]\n",
    "        types = [int, datetime.datetime, str, str]\n",
    "        if sum(map(lambda inst_, type_: isinstance(inst_, type_), instances, types)) == len(instances):\n",
    "            return True\n",
    "        else:\n",
    "            return False"
   ]
  },
  {
   "cell_type": "markdown",
   "metadata": {},
   "source": [
    "## Testing"
   ]
  },
  {
   "cell_type": "code",
   "execution_count": 11,
   "metadata": {
    "ExecuteTime": {
     "end_time": "2020-03-08T18:04:02.243208Z",
     "start_time": "2020-03-08T18:04:02.183625Z"
    }
   },
   "outputs": [],
   "source": [
    "c = MinimalChain() # Start a chain\n",
    "for i in range(1,20+1):\n",
    "    c.add_block(f'This is block {i} of my first chain.')"
   ]
  },
  {
   "cell_type": "code",
   "execution_count": 12,
   "metadata": {
    "ExecuteTime": {
     "end_time": "2020-03-08T18:04:04.315751Z",
     "start_time": "2020-03-08T18:04:04.310750Z"
    }
   },
   "outputs": [
    {
     "name": "stdout",
     "output_type": "stream",
     "text": [
      "2020-03-08 18:04:02.200624\n",
      "This is block 7 of my first chain.\n",
      "001be6e206e16d27711ffb539b1720ab33949d3bf5217dcbd648c702537e67b9\n"
     ]
    }
   ],
   "source": [
    "print(c.blocks[3].timestamp)\n",
    "print(c.blocks[7].data)\n",
    "print(c.blocks[9].hash)"
   ]
  },
  {
   "cell_type": "code",
   "execution_count": 14,
   "metadata": {
    "ExecuteTime": {
     "end_time": "2020-03-08T18:04:28.528088Z",
     "start_time": "2020-03-08T18:04:28.523086Z"
    }
   },
   "outputs": [
    {
     "name": "stdout",
     "output_type": "stream",
     "text": [
      "20\n",
      "True\n"
     ]
    }
   ],
   "source": [
    "print(c.get_chain_size())\n",
    "print(c.verify())"
   ]
  },
  {
   "cell_type": "code",
   "execution_count": 15,
   "metadata": {
    "ExecuteTime": {
     "end_time": "2020-03-08T18:04:31.325048Z",
     "start_time": "2020-03-08T18:04:31.320048Z"
    }
   },
   "outputs": [
    {
     "name": "stdout",
     "output_type": "stream",
     "text": [
      "True\n",
      "False\n"
     ]
    }
   ],
   "source": [
    "c_forked = c.fork('latest')\n",
    "print(c == c_forked) #same content?\n",
    "print(c is c_forked) #same object?"
   ]
  },
  {
   "cell_type": "code",
   "execution_count": 16,
   "metadata": {
    "ExecuteTime": {
     "end_time": "2020-03-08T18:04:34.542495Z",
     "start_time": "2020-03-08T18:04:34.532507Z"
    }
   },
   "outputs": [
    {
     "name": "stdout",
     "output_type": "stream",
     "text": [
      "20 21\n"
     ]
    }
   ],
   "source": [
    "c_forked.add_block('New block for forked chain!')\n",
    "print(c.get_chain_size(), c_forked.get_chain_size())"
   ]
  },
  {
   "cell_type": "markdown",
   "metadata": {},
   "source": [
    "## Conflict Testing"
   ]
  },
  {
   "cell_type": "markdown",
   "metadata": {},
   "source": [
    "Change nonce of a block"
   ]
  },
  {
   "cell_type": "code",
   "execution_count": 17,
   "metadata": {
    "ExecuteTime": {
     "end_time": "2020-03-08T18:04:43.878575Z",
     "start_time": "2020-03-08T18:04:43.863576Z"
    }
   },
   "outputs": [
    {
     "name": "stdout",
     "output_type": "stream",
     "text": [
      "Wrong hash at block 9.\n"
     ]
    },
    {
     "data": {
      "text/plain": [
       "False"
      ]
     },
     "execution_count": 17,
     "metadata": {},
     "output_type": "execute_result"
    }
   ],
   "source": [
    "c_forked = c.fork('latest')\n",
    "c_forked.blocks[9].nonce = -9\n",
    "c_forked.verify()"
   ]
  },
  {
   "cell_type": "markdown",
   "metadata": {},
   "source": [
    "Try to fix it using mine()"
   ]
  },
  {
   "cell_type": "code",
   "execution_count": 18,
   "metadata": {
    "ExecuteTime": {
     "end_time": "2020-03-08T18:09:33.429088Z",
     "start_time": "2020-03-08T18:09:33.423091Z"
    }
   },
   "outputs": [
    {
     "data": {
      "text/plain": [
       "True"
      ]
     },
     "execution_count": 18,
     "metadata": {},
     "output_type": "execute_result"
    }
   ],
   "source": [
    "c_forked.blocks[9].mine()\n",
    "c_forked.verify()"
   ]
  },
  {
   "cell_type": "markdown",
   "metadata": {},
   "source": [
    "Change timestamp manually"
   ]
  },
  {
   "cell_type": "code",
   "execution_count": 19,
   "metadata": {
    "ExecuteTime": {
     "end_time": "2020-03-08T16:31:29.265135Z",
     "start_time": "2020-03-08T16:31:29.256134Z"
    }
   },
   "outputs": [
    {
     "name": "stdout",
     "output_type": "stream",
     "text": [
      "Wrong hash at block 16.\n",
      "Backdating at block 16.\n"
     ]
    },
    {
     "data": {
      "text/plain": [
       "False"
      ]
     },
     "execution_count": 19,
     "metadata": {},
     "output_type": "execute_result"
    }
   ],
   "source": [
    "c_forked = c.fork('latest')\n",
    "c_forked.blocks[16].timestamp = datetime.datetime(2000, 1, 1, 0, 0, 0, 0)\n",
    "c_forked.verify()"
   ]
  },
  {
   "cell_type": "markdown",
   "metadata": {},
   "source": [
    "Change previous_hash of block   "
   ]
  },
  {
   "cell_type": "code",
   "execution_count": 20,
   "metadata": {
    "ExecuteTime": {
     "end_time": "2020-03-08T16:32:15.702762Z",
     "start_time": "2020-03-08T16:32:15.695762Z"
    }
   },
   "outputs": [
    {
     "name": "stdout",
     "output_type": "stream",
     "text": [
      "Wrong previous hash at block 5.\n",
      "Wrong hash at block 5.\n"
     ]
    },
    {
     "data": {
      "text/plain": [
       "False"
      ]
     },
     "execution_count": 20,
     "metadata": {},
     "output_type": "execute_result"
    }
   ],
   "source": [
    "c_forked = c.fork('latest')\n",
    "c_forked.blocks[5].previous_hash = c_forked.blocks[1].hash\n",
    "c_forked.verify()"
   ]
  },
  {
   "cell_type": "code",
   "execution_count": null,
   "metadata": {},
   "outputs": [],
   "source": []
  }
 ],
 "metadata": {
  "kernelspec": {
   "display_name": "Python 3",
   "language": "python",
   "name": "python3"
  },
  "language_info": {
   "codemirror_mode": {
    "name": "ipython",
    "version": 3
   },
   "file_extension": ".py",
   "mimetype": "text/x-python",
   "name": "python",
   "nbconvert_exporter": "python",
   "pygments_lexer": "ipython3",
   "version": "3.7.1"
  },
  "latex_envs": {
   "LaTeX_envs_menu_present": true,
   "autoclose": false,
   "autocomplete": true,
   "bibliofile": "biblio.bib",
   "cite_by": "apalike",
   "current_citInitial": 1,
   "eqLabelWithNumbers": true,
   "eqNumInitial": 1,
   "hotkeys": {
    "equation": "Ctrl-E",
    "itemize": "Ctrl-I"
   },
   "labels_anchors": false,
   "latex_user_defs": false,
   "report_style_numbering": false,
   "user_envs_cfg": false
  },
  "toc": {
   "base_numbering": 1,
   "nav_menu": {},
   "number_sections": true,
   "sideBar": true,
   "skip_h1_title": false,
   "title_cell": "Table of Contents",
   "title_sidebar": "Contents",
   "toc_cell": false,
   "toc_position": {},
   "toc_section_display": true,
   "toc_window_display": false
  },
  "varInspector": {
   "cols": {
    "lenName": 16,
    "lenType": 16,
    "lenVar": 40
   },
   "kernels_config": {
    "python": {
     "delete_cmd_postfix": "",
     "delete_cmd_prefix": "del ",
     "library": "var_list.py",
     "varRefreshCmd": "print(var_dic_list())"
    },
    "r": {
     "delete_cmd_postfix": ") ",
     "delete_cmd_prefix": "rm(",
     "library": "var_list.r",
     "varRefreshCmd": "cat(var_dic_list()) "
    }
   },
   "types_to_exclude": [
    "module",
    "function",
    "builtin_function_or_method",
    "instance",
    "_Feature"
   ],
   "window_display": false
  }
 },
 "nbformat": 4,
 "nbformat_minor": 2
}
